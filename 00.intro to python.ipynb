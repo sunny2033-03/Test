{
 "cells": [
  {
   "cell_type": "code",
   "execution_count": null,
   "metadata": {},
   "outputs": [],
   "source": [
    "print (\"hello\")"
   ]
  },
  {
   "cell_type": "code",
   "execution_count": null,
   "metadata": {},
   "outputs": [],
   "source": [
    "s =\"pwskills\"\n",
    "type(s)"
   ]
  },
  {
   "cell_type": "code",
   "execution_count": null,
   "metadata": {},
   "outputs": [],
   "source": [
    "n= True\n",
    "m= False\n",
    "print(n*n)\n",
    "print(m*n)\n",
    "print(m/n)\n",
    "print(n/m)"
   ]
  },
  {
   "cell_type": "code",
   "execution_count": null,
   "metadata": {},
   "outputs": [],
   "source": [
    "sunny = 8+5j\n",
    "sunny.real\n",
    "sunny.imag\n",
    "type(sunny)\n"
   ]
  },
  {
   "cell_type": "code",
   "execution_count": null,
   "metadata": {},
   "outputs": [],
   "source": [
    "a=\"kalam\"\n",
    "a[0]\n",
    "a[1]\n",
    "a[0:3]\n",
    "a[0:5:2]\n",
    "a[::2]\n",
    "a[1:4:-1]\n",
    "b='dibyajyoti'\n",
    "b[10:0:]\n",
    "b[10:0:-1]\n",
    "b[-19::]\n",
    "b[-90]\n",
    " "
   ]
  },
  {
   "cell_type": "code",
   "execution_count": null,
   "metadata": {},
   "outputs": [],
   "source": [
    "c=200\n",
    "d=str(c)\n",
    "d[1]\n"
   ]
  },
  {
   "cell_type": "code",
   "execution_count": null,
   "metadata": {},
   "outputs": [],
   "source": [
    "s1='this is my dog Bullett'\n",
    "len(s1)\n",
    "s1.find('s')\n",
    "s1.find('dog')\n",
    "s1.count('is')\n",
    "s1.count('i')\n",
    "s1.upper()\n",
    "s1.capitalize()"
   ]
  },
  {
   "cell_type": "code",
   "execution_count": null,
   "metadata": {},
   "outputs": [],
   "source": [
    "s2='THIS IS MY DOG BULLETT'\n",
    "s2.lower()\n",
    "s2.title()"
   ]
  },
  {
   "cell_type": "code",
   "execution_count": 1,
   "metadata": {},
   "outputs": [
    {
     "data": {
      "text/plain": [
       "'dibyajyotidibyajyotidibyajyoti'"
      ]
     },
     "execution_count": 1,
     "metadata": {},
     "output_type": "execute_result"
    }
   ],
   "source": [
    "b='dibyajyoti'\n",
    "b*3"
   ]
  },
  {
   "cell_type": "code",
   "execution_count": null,
   "metadata": {},
   "outputs": [],
   "source": [
    "I have learn variable deceleration and data type\n",
    "and I am feeling good so that i will earn a good sealery"
   ]
  }
 ],
 "metadata": {
  "kernelspec": {
   "display_name": "Python 3",
   "language": "python",
   "name": "python3"
  },
  "language_info": {
   "codemirror_mode": {
    "name": "ipython",
    "version": 3
   },
   "file_extension": ".py",
   "mimetype": "text/x-python",
   "name": "python",
   "nbconvert_exporter": "python",
   "pygments_lexer": "ipython3",
   "version": "3.11.3"
  },
  "orig_nbformat": 4
 },
 "nbformat": 4,
 "nbformat_minor": 2
}
